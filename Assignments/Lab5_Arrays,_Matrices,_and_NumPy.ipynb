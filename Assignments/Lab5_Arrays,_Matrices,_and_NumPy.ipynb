{
  "cells": [
    {
      "cell_type": "markdown",
      "id": "aa4602c3",
      "metadata": {
        "id": "aa4602c3"
      },
      "source": [
        "# Lab Assignment (5) -- Arrays, Matrices, and NumPy\n",
        "In this lab, you will complete a series of exercises related to the lecture material on arrays, matrices, and NumPy, You will have to do some calculations on a piece of paper or tablet -- submit either pictures or a PDF of your work with this Notebook."
      ]
    },
    {
      "cell_type": "markdown",
      "id": "36d604de",
      "metadata": {
        "id": "36d604de"
      },
      "source": [
        "Throughout this assignment, we will refer to the following arrays.\n",
        "$$\n",
        "A = \\left[\\begin{array}{ccc}\n",
        "1 & 5 & 3\\\\ 5 & -4 & 2\\\\ 3 & 2 & 1\n",
        "\\end{array}\\right], B = \\left[\\begin{array}{cccc}\n",
        "0 & 1 & 3 & 9\\\\ 6 & -1 & -2 & -9\\\\ 2 & 5 & 1 &2\n",
        "\\end{array}\\right], C = \\left[\\begin{array}{ccc}\n",
        "1 & 5 & -13\\\\ 7 & -7 & 7\\\\ 2 & -3 & 1 \\\\ 0 & 7 & -6\n",
        "\\end{array}\\right] \\\\ d = \\left[\\begin{array}{c}\n",
        "1 \\\\ -3\\\\ 2\n",
        "\\end{array}\\right], f= \\left[\\begin{array}{c}\n",
        "-2 \\\\ 4\\\\ 1\n",
        "\\end{array}\\right],g = \\left[\\begin{array}{c}\n",
        "-1 \\\\ 10 \\\\ -1\\\\ 5\n",
        "\\end{array}\\right]\n",
        "$$"
      ]
    },
    {
      "cell_type": "markdown",
      "source": [
        "**Handwritten work is submitted in separate into Github because it would not load and crash my page. Thanks!**"
      ],
      "metadata": {
        "id": "rUwcKQnAVDUP"
      },
      "id": "rUwcKQnAVDUP"
    },
    {
      "cell_type": "markdown",
      "id": "6814b00c",
      "metadata": {
        "id": "6814b00c"
      },
      "source": [
        "## Exercise 1 -- Defining Arrays\n",
        "Import `numpy` with the alias np and define the matrices above manually in the cell below. Make sure you define these carefully as subsequent responses will be incorrect otherwise.\n",
        "\n",
        "<span style=\"color: red;\"> **Be Careful!**</span>  After defining these objects, don't reassign these variable names to a different object for the rest of the assignment."
      ]
    },
    {
      "cell_type": "code",
      "execution_count": null,
      "id": "1e9acd73",
      "metadata": {
        "id": "1e9acd73"
      },
      "outputs": [],
      "source": [
        "# Exercise 1 code\n",
        "import numpy as np\n",
        "A = np.array([[1, 5, 3], [5, -4, 2], [3, 2, 1]])\n",
        "B = np.array([[0, 1, 3, 9], [6, -1, -2, -9], [2, 5, 1, 2]])\n",
        "C = np.array([[1, 5, -13], [7, -7, 7], [2, -3, 1], [0, 7, -6]])\n",
        "d = np.array([[1], [-3], [2]])\n",
        "f = np.array([[-2], [4], [1]])\n",
        "g = np.array([[-1], [10], [-1], [5]])"
      ]
    },
    {
      "cell_type": "markdown",
      "id": "445dc79e",
      "metadata": {
        "id": "445dc79e"
      },
      "source": [
        "##  Exercise 2 -- Array Addition\n",
        "Is the operation $d + f$ possible? What about $d + g$? Why or why not? Answer in the markdown cell below. For each possible operation, print its result in the code cell below.\n"
      ]
    },
    {
      "cell_type": "code",
      "execution_count": null,
      "id": "36bb39c3",
      "metadata": {
        "colab": {
          "base_uri": "https://localhost:8080/",
          "height": 89
        },
        "id": "36bb39c3",
        "outputId": "7c1313cd-37a9-4998-88be-bb4f7c29f78a"
      },
      "outputs": [
        {
          "output_type": "stream",
          "name": "stdout",
          "text": [
            "[[-1]\n",
            " [ 1]\n",
            " [ 3]]\n"
          ]
        },
        {
          "output_type": "execute_result",
          "data": {
            "text/plain": [
              "'d+g is not possible given d is 3x1 and g is 4x1.'"
            ],
            "application/vnd.google.colaboratory.intrinsic+json": {
              "type": "string"
            }
          },
          "metadata": {},
          "execution_count": 8
        }
      ],
      "source": [
        "# Exercise 2 code\n",
        "'''d+f is possible given both are same-dimension column vectors'''\n",
        "print(d+f)\n",
        "'''d+g is not possible given d is 3x1 and g is 4x1.'''"
      ]
    },
    {
      "cell_type": "code",
      "source": [
        "print(d+g)"
      ],
      "metadata": {
        "colab": {
          "base_uri": "https://localhost:8080/",
          "height": 144
        },
        "id": "B72LnuOoAUuF",
        "outputId": "007c2b6b-438a-4799-c5ba-d77a32448971"
      },
      "id": "B72LnuOoAUuF",
      "execution_count": null,
      "outputs": [
        {
          "output_type": "error",
          "ename": "ValueError",
          "evalue": "operands could not be broadcast together with shapes (3,1) (4,1) ",
          "traceback": [
            "\u001b[0;31m---------------------------------------------------------------------------\u001b[0m",
            "\u001b[0;31mValueError\u001b[0m                                Traceback (most recent call last)",
            "\u001b[0;32m<ipython-input-9-6848fd1e552b>\u001b[0m in \u001b[0;36m<cell line: 1>\u001b[0;34m()\u001b[0m\n\u001b[0;32m----> 1\u001b[0;31m \u001b[0mprint\u001b[0m\u001b[0;34m(\u001b[0m\u001b[0md\u001b[0m\u001b[0;34m+\u001b[0m\u001b[0mg\u001b[0m\u001b[0;34m)\u001b[0m\u001b[0;34m\u001b[0m\u001b[0;34m\u001b[0m\u001b[0m\n\u001b[0m",
            "\u001b[0;31mValueError\u001b[0m: operands could not be broadcast together with shapes (3,1) (4,1) "
          ]
        }
      ]
    },
    {
      "cell_type": "markdown",
      "id": "8dc481c1",
      "metadata": {
        "id": "8dc481c1"
      },
      "source": [
        "### Response to Exercise 2\n",
        "\n",
        "*   d+f is possible given both are same-dimension column vectors.\n",
        "*   d+g is not possible given d is 3x1 and g is 4x1."
      ]
    },
    {
      "cell_type": "markdown",
      "id": "7cffe2ea",
      "metadata": {
        "id": "7cffe2ea"
      },
      "source": [
        "## Exercise 3 -- Dot Product\n",
        "On a piece of paper or tablet, **legibly** calculate the dot product of $d$ and $f$. Label your response as \"Solution to Exercise 3\". Show your work as we did in lecture. Check your solution by calling `np.dot()` in the cell below."
      ]
    },
    {
      "cell_type": "code",
      "execution_count": null,
      "id": "f8328d5e",
      "metadata": {
        "colab": {
          "base_uri": "https://localhost:8080/"
        },
        "id": "f8328d5e",
        "outputId": "bf386d25-fdc5-48a5-a2cd-511b6445197f"
      },
      "outputs": [
        {
          "output_type": "stream",
          "name": "stdout",
          "text": [
            "-12\n"
          ]
        }
      ],
      "source": [
        "# Exercise 3 code\n",
        "d = np.squeeze(np.asarray(d))\n",
        "\n",
        "f = np.squeeze(np.asarray(f))\n",
        "print(np.dot(d,f))"
      ]
    },
    {
      "cell_type": "markdown",
      "source": [
        "*I had to re-squeeze the matrix into array for some reason.*"
      ],
      "metadata": {
        "id": "CKEFRWneCc9e"
      },
      "id": "CKEFRWneCc9e"
    },
    {
      "cell_type": "markdown",
      "id": "1499a45d",
      "metadata": {
        "id": "1499a45d"
      },
      "source": [
        "## Exercise 4 -- Vector Slices\n",
        "Using only `g` and slice indexing, assign `[10 -1]` to `tiny_array`. What is the type of `tiny_array`? Why is this desirable behavior? Answer in Markdown."
      ]
    },
    {
      "cell_type": "code",
      "execution_count": null,
      "id": "edaadcc6",
      "metadata": {
        "colab": {
          "base_uri": "https://localhost:8080/"
        },
        "id": "edaadcc6",
        "outputId": "2e9a6a54-2c02-4a19-87cf-0a981a2a65e7"
      },
      "outputs": [
        {
          "output_type": "stream",
          "name": "stdout",
          "text": [
            "[10 -1]\n",
            "<class 'numpy.ndarray'>\n"
          ]
        }
      ],
      "source": [
        "# Exercise 4 code\n",
        "tiny_array = g[1:3, 0]\n",
        "print(tiny_array)\n",
        "\n",
        "print(type(tiny_array))"
      ]
    },
    {
      "cell_type": "markdown",
      "id": "8e87d5fa",
      "metadata": {
        "id": "8e87d5fa"
      },
      "source": [
        "### Response to Exercise 4\n",
        "tiny_array is a numpy array which is desirable for matrix operations and use of multiple values of one data type (array). It keeps the same type after the slicing for ease of use and calling of variables."
      ]
    },
    {
      "cell_type": "markdown",
      "id": "bce70be0",
      "metadata": {
        "id": "bce70be0"
      },
      "source": [
        "## Exercise 5 -- Matrix Transposes and Addition\n",
        "On a piece of paper or tablet, **legibly** calculate the sum of $B$ and the transpose of $C$. Label your response as \"Solution to Exercise 5\". Show your work as we did in lecture.\n",
        "\n",
        "Check your solution in the cell below. Could we add $B$ and $C$? Answer in the Markdown cell below."
      ]
    },
    {
      "cell_type": "code",
      "execution_count": null,
      "id": "5459f3a6",
      "metadata": {
        "scrolled": true,
        "colab": {
          "base_uri": "https://localhost:8080/"
        },
        "id": "5459f3a6",
        "outputId": "dd0db056-f557-4416-a5bd-7898e46bdc65"
      },
      "outputs": [
        {
          "output_type": "stream",
          "name": "stdout",
          "text": [
            "[[  1   8   5   9]\n",
            " [ 11  -8  -5  -2]\n",
            " [-11  12   2  -4]]\n"
          ]
        }
      ],
      "source": [
        "# Exercise 5 code\n",
        "#print(B,C.T)\n",
        "print(B+C.T)"
      ]
    },
    {
      "cell_type": "markdown",
      "id": "73d9ee90",
      "metadata": {
        "id": "73d9ee90"
      },
      "source": [
        "### Response to Exercise 5\n",
        "My hand calculations match the code and yes, we could add B and C ONLY if we transpose C to match dimensions (or transform in some other way for operation)."
      ]
    },
    {
      "cell_type": "markdown",
      "id": "9143d0da",
      "metadata": {
        "id": "9143d0da"
      },
      "source": [
        "## Exercise 6 -- Matrix Indexing\n",
        "Complete the following steps:\n",
        "- Define a variable `tiny_mat` and set it equal to `np.array([[-7, 7], [-3, 1]])`.\n",
        "- Using only `C` and slice-indexing, recreate `tiny_mat` and assign it to `tiny_mat_clone`.\n",
        "- Define a funcion called `compare_arrs` that takes two arrays and prints \"Arrays are the same!\" if the arrays are the same and \"Arrays are different!\" if the arrays are different.  \n",
        "- Call `compare_arrs` on `tiny_mat` and `tiny_mat_clone`.\n",
        "- Call `compare_arrs` on `np.array([1, 3, 4])` and `tiny_mat_clone`.\n",
        "\n",
        "\n",
        "**Hint:** Use `np.array_equal()` within `compare_arrs`."
      ]
    },
    {
      "cell_type": "code",
      "execution_count": null,
      "id": "ccf0fe9b",
      "metadata": {
        "colab": {
          "base_uri": "https://localhost:8080/"
        },
        "id": "ccf0fe9b",
        "outputId": "5357f55f-7786-461a-9069-a0cc1e4a1d89"
      },
      "outputs": [
        {
          "output_type": "execute_result",
          "data": {
            "text/plain": [
              "(array([-7,  7]), array([-3,  1]))"
            ]
          },
          "metadata": {},
          "execution_count": 54
        }
      ],
      "source": [
        "# Exercise 6 -- Define Matrices\n",
        "tiny_mat = np.array([[-7, 7], [-3, 1]])\n",
        "tiny_mat_clone = C[1,1:3],C[2,1:3]\n",
        "tiny_mat_clone"
      ]
    },
    {
      "cell_type": "code",
      "execution_count": null,
      "id": "5340e4cb",
      "metadata": {
        "id": "5340e4cb"
      },
      "outputs": [],
      "source": [
        "# Exercise 6 -- Define Function\n",
        "def compare_arrs(a1, a2):\n",
        "  if np.array_equal(a1, a2):\n",
        "    print(\"Arrays are the same!\")\n",
        "  else:\n",
        "    print(\"Arrays are different!\")"
      ]
    },
    {
      "cell_type": "code",
      "execution_count": null,
      "id": "3e32c3ad",
      "metadata": {
        "scrolled": true,
        "colab": {
          "base_uri": "https://localhost:8080/"
        },
        "id": "3e32c3ad",
        "outputId": "9abd338f-b814-4a28-9976-1217476bda96"
      },
      "outputs": [
        {
          "output_type": "stream",
          "name": "stdout",
          "text": [
            "Arrays are the same!\n",
            "None\n",
            "Arrays are different!\n",
            "None\n"
          ]
        }
      ],
      "source": [
        "# Exercise 6 -- Call compare_arrs\n",
        "print(compare_arrs(tiny_mat, tiny_mat_clone))\n",
        "print(compare_arrs(np.array([1, 3, 4]),tiny_mat_clone))"
      ]
    },
    {
      "cell_type": "markdown",
      "id": "fe3bbe39",
      "metadata": {
        "id": "fe3bbe39"
      },
      "source": [
        "## Exercise 7 -- Symmetric Matrices\n",
        "A **symmetric matrix** is a matrix that is equal to its transpose. Using your function `compare_arrs`, test whether `A`, `B`, and `C` are symmetric. What does it say about the symmetry of a matrix when \"Arrays are the same!\" is printed? Answer in the Markdown cell below."
      ]
    },
    {
      "cell_type": "code",
      "execution_count": null,
      "id": "c6b6d501",
      "metadata": {
        "scrolled": true,
        "colab": {
          "base_uri": "https://localhost:8080/"
        },
        "id": "c6b6d501",
        "outputId": "647d973d-34f3-4820-b488-8dfe5af47e07"
      },
      "outputs": [
        {
          "output_type": "stream",
          "name": "stdout",
          "text": [
            "Arrays are the same!\n",
            "Arrays are different!\n",
            "Arrays are different!\n"
          ]
        }
      ],
      "source": [
        "# Exercise 7 code\n",
        "compare_arrs(A,A.T)\n",
        "compare_arrs(B,B.T)\n",
        "compare_arrs(C,C.T)"
      ]
    },
    {
      "cell_type": "markdown",
      "id": "9a11d543",
      "metadata": {
        "id": "9a11d543"
      },
      "source": [
        "### Response to Exercise 7\n",
        "When 'Arrays are the same!', the transpose of a matrix is equal to its original in dimension and numerical positions."
      ]
    },
    {
      "cell_type": "code",
      "source": [
        "A.T == A"
      ],
      "metadata": {
        "colab": {
          "base_uri": "https://localhost:8080/"
        },
        "id": "J3t3da1YICxC",
        "outputId": "b103d4d3-f672-4cc8-f1ca-7d62f889d626"
      },
      "id": "J3t3da1YICxC",
      "execution_count": null,
      "outputs": [
        {
          "output_type": "execute_result",
          "data": {
            "text/plain": [
              "array([[ True,  True,  True],\n",
              "       [ True,  True,  True],\n",
              "       [ True,  True,  True]])"
            ]
          },
          "metadata": {},
          "execution_count": 70
        }
      ]
    },
    {
      "cell_type": "code",
      "source": [
        "B.T == B"
      ],
      "metadata": {
        "colab": {
          "base_uri": "https://localhost:8080/",
          "height": 144
        },
        "id": "V01unCt3IL7F",
        "outputId": "8c1bb956-474c-4cce-fd33-89a86eb49fd6"
      },
      "id": "V01unCt3IL7F",
      "execution_count": null,
      "outputs": [
        {
          "output_type": "error",
          "ename": "ValueError",
          "evalue": "operands could not be broadcast together with shapes (4,3) (3,4) ",
          "traceback": [
            "\u001b[0;31m---------------------------------------------------------------------------\u001b[0m",
            "\u001b[0;31mValueError\u001b[0m                                Traceback (most recent call last)",
            "\u001b[0;32m<ipython-input-71-6acb9790b8b7>\u001b[0m in \u001b[0;36m<cell line: 1>\u001b[0;34m()\u001b[0m\n\u001b[0;32m----> 1\u001b[0;31m \u001b[0mB\u001b[0m\u001b[0;34m.\u001b[0m\u001b[0mT\u001b[0m \u001b[0;34m==\u001b[0m \u001b[0mB\u001b[0m\u001b[0;34m\u001b[0m\u001b[0;34m\u001b[0m\u001b[0m\n\u001b[0m",
            "\u001b[0;31mValueError\u001b[0m: operands could not be broadcast together with shapes (4,3) (3,4) "
          ]
        }
      ]
    },
    {
      "cell_type": "markdown",
      "id": "e1b4c19e",
      "metadata": {
        "id": "e1b4c19e"
      },
      "source": [
        "## Exercise 8 -- Matrix Concatenation\n",
        "We can glue or **concatenate** two arrays together using `np.vstack()` and `np.hstack()`. Each function takes a list of arrays as an argument. The former concatenates two arrays vertically (think of stacking rectangles on top of eachother) while the latter concatenates them horizontally (think of stacking rectangles side-by-side).\n",
        "\n",
        "Answer the following questions below:\n",
        "- If we call `np.vstack([A, B])` and it executes successfully, what must be true about the size of `A `and `B`?\n",
        "- If we call `np.hstack([A, B])` and it executes successfully, what must be true about the size of `A `and `B`?\n",
        "\n",
        "**Hint:** Try concatenating two arrays until you get an error. What does the error say?"
      ]
    },
    {
      "cell_type": "code",
      "execution_count": null,
      "id": "30265351",
      "metadata": {
        "colab": {
          "base_uri": "https://localhost:8080/"
        },
        "id": "30265351",
        "outputId": "ff76f0b5-f813-4bf6-96a9-6b8c4bd29fe1"
      },
      "outputs": [
        {
          "output_type": "execute_result",
          "data": {
            "text/plain": [
              "array([ 1, -3,  2, -2,  4,  1])"
            ]
          },
          "metadata": {},
          "execution_count": 92
        }
      ],
      "source": [
        "# Exercise 8 -- Test vstack and hstack here as needed\n",
        "np.hstack([A, B])\n",
        "np.hstack([C, g])\n",
        "np.hstack([d, f])"
      ]
    },
    {
      "cell_type": "code",
      "source": [
        "np.vstack([A, C])\n",
        "np.vstack([A, d])\n",
        "np.vstack([A, f])\n",
        "np.vstack([C, d])\n",
        "np.vstack([C, f])\n",
        "np.vstack([d, f])"
      ],
      "metadata": {
        "colab": {
          "base_uri": "https://localhost:8080/"
        },
        "id": "tQEBA8L4KHLM",
        "outputId": "c624abb5-541b-4330-bc1a-d78f73d41739"
      },
      "id": "tQEBA8L4KHLM",
      "execution_count": null,
      "outputs": [
        {
          "output_type": "execute_result",
          "data": {
            "text/plain": [
              "array([[ 1, -3,  2],\n",
              "       [-2,  4,  1]])"
            ]
          },
          "metadata": {},
          "execution_count": 107
        }
      ]
    },
    {
      "cell_type": "code",
      "source": [
        "np.vstack([A, B])"
      ],
      "metadata": {
        "colab": {
          "base_uri": "https://localhost:8080/",
          "height": 287
        },
        "id": "cGWD7yaMJUgx",
        "outputId": "1f61a422-93ab-4414-deb2-c1ec560b46c5"
      },
      "id": "cGWD7yaMJUgx",
      "execution_count": null,
      "outputs": [
        {
          "output_type": "error",
          "ename": "ValueError",
          "evalue": "all the input array dimensions except for the concatenation axis must match exactly, but along dimension 1, the array at index 0 has size 3 and the array at index 1 has size 4",
          "traceback": [
            "\u001b[0;31m---------------------------------------------------------------------------\u001b[0m",
            "\u001b[0;31mValueError\u001b[0m                                Traceback (most recent call last)",
            "\u001b[0;32m<ipython-input-74-af185678c3b9>\u001b[0m in \u001b[0;36m<cell line: 1>\u001b[0;34m()\u001b[0m\n\u001b[0;32m----> 1\u001b[0;31m \u001b[0mnp\u001b[0m\u001b[0;34m.\u001b[0m\u001b[0mvstack\u001b[0m\u001b[0;34m(\u001b[0m\u001b[0;34m[\u001b[0m\u001b[0mA\u001b[0m\u001b[0;34m,\u001b[0m \u001b[0mB\u001b[0m\u001b[0;34m]\u001b[0m\u001b[0;34m)\u001b[0m\u001b[0;34m\u001b[0m\u001b[0;34m\u001b[0m\u001b[0m\n\u001b[0m",
            "\u001b[0;32m/usr/local/lib/python3.10/dist-packages/numpy/core/shape_base.py\u001b[0m in \u001b[0;36mvstack\u001b[0;34m(tup, dtype, casting)\u001b[0m\n\u001b[1;32m    287\u001b[0m     \u001b[0;32mif\u001b[0m \u001b[0;32mnot\u001b[0m \u001b[0misinstance\u001b[0m\u001b[0;34m(\u001b[0m\u001b[0marrs\u001b[0m\u001b[0;34m,\u001b[0m \u001b[0mlist\u001b[0m\u001b[0;34m)\u001b[0m\u001b[0;34m:\u001b[0m\u001b[0;34m\u001b[0m\u001b[0;34m\u001b[0m\u001b[0m\n\u001b[1;32m    288\u001b[0m         \u001b[0marrs\u001b[0m \u001b[0;34m=\u001b[0m \u001b[0;34m[\u001b[0m\u001b[0marrs\u001b[0m\u001b[0;34m]\u001b[0m\u001b[0;34m\u001b[0m\u001b[0;34m\u001b[0m\u001b[0m\n\u001b[0;32m--> 289\u001b[0;31m     \u001b[0;32mreturn\u001b[0m \u001b[0m_nx\u001b[0m\u001b[0;34m.\u001b[0m\u001b[0mconcatenate\u001b[0m\u001b[0;34m(\u001b[0m\u001b[0marrs\u001b[0m\u001b[0;34m,\u001b[0m \u001b[0;36m0\u001b[0m\u001b[0;34m,\u001b[0m \u001b[0mdtype\u001b[0m\u001b[0;34m=\u001b[0m\u001b[0mdtype\u001b[0m\u001b[0;34m,\u001b[0m \u001b[0mcasting\u001b[0m\u001b[0;34m=\u001b[0m\u001b[0mcasting\u001b[0m\u001b[0;34m)\u001b[0m\u001b[0;34m\u001b[0m\u001b[0;34m\u001b[0m\u001b[0m\n\u001b[0m\u001b[1;32m    290\u001b[0m \u001b[0;34m\u001b[0m\u001b[0m\n\u001b[1;32m    291\u001b[0m \u001b[0;34m\u001b[0m\u001b[0m\n",
            "\u001b[0;31mValueError\u001b[0m: all the input array dimensions except for the concatenation axis must match exactly, but along dimension 1, the array at index 0 has size 3 and the array at index 1 has size 4"
          ]
        }
      ]
    },
    {
      "cell_type": "markdown",
      "id": "08e35010",
      "metadata": {
        "id": "08e35010"
      },
      "source": [
        "### Response to Exercise 8\n",
        "\n",
        "\n",
        "*   np.hstack([A, B]) is successful and therefore they have same number of rows to concacenate horizontally but different number of columns for vertical concacenation.\n",
        "*   The error says that dimensions for the respective concacenating axis must match exactly: whereby for example, A/B vertically has a 3 versus 4 difference in size."
      ]
    },
    {
      "cell_type": "markdown",
      "id": "76713bcd",
      "metadata": {
        "id": "76713bcd"
      },
      "source": [
        "## Exercise 9 -- Element-Wise Multiplication\n",
        "On a piece of paper or tablet, **legibly** calculate the element-wise multiplication of $B$ and the transpose of $C$. Label your response as \"Solution to Exercise 9\". Show your work as we did in lecture.\n",
        "\n",
        "Check your solution in the cell below."
      ]
    },
    {
      "cell_type": "code",
      "execution_count": null,
      "id": "a7148441",
      "metadata": {
        "colab": {
          "base_uri": "https://localhost:8080/"
        },
        "id": "a7148441",
        "outputId": "47bfd18c-625f-4aef-afac-f0c667f25344"
      },
      "outputs": [
        {
          "output_type": "stream",
          "name": "stdout",
          "text": [
            "[[  0   7   6   0]\n",
            " [ 30   7   6 -63]\n",
            " [-26  35   1 -12]]\n"
          ]
        }
      ],
      "source": [
        "# Exercise 9 Code\n",
        "print(B*C.T)"
      ]
    },
    {
      "cell_type": "markdown",
      "id": "74af3830",
      "metadata": {
        "id": "74af3830"
      },
      "source": [
        "## Exercise 10 -- Matrix Multiplication\n",
        "On a piece of paper or tablet, **legibly** complete the following matrix multiplication (not element-wise multiplication!) exercise:\n",
        "$$A * B$$\n",
        "\n",
        "\n",
        "\n",
        "\n",
        "Label your response as \"Solution to Exercise 10\". Show your work as we did in lecture.\n",
        "\n",
        "Check your solution in the cell below uinsg `np.matmul()`."
      ]
    },
    {
      "cell_type": "code",
      "execution_count": null,
      "id": "4e2798fb",
      "metadata": {
        "colab": {
          "base_uri": "https://localhost:8080/"
        },
        "id": "4e2798fb",
        "outputId": "954e9d4b-187a-4848-a00d-c4005116082f"
      },
      "outputs": [
        {
          "output_type": "execute_result",
          "data": {
            "text/plain": [
              "array([[ 36,  11,  -4, -30],\n",
              "       [-20,  19,  25,  85],\n",
              "       [ 14,   6,   6,  11]])"
            ]
          },
          "metadata": {},
          "execution_count": 112
        }
      ],
      "source": [
        "# Exercise 10 Code\n",
        "np.matmul(A,B)"
      ]
    },
    {
      "cell_type": "markdown",
      "id": "0ee66928",
      "metadata": {
        "id": "0ee66928"
      },
      "source": [
        "## Exercise 11 -- Plotting with `np.linspace`\n",
        "Using `numpy` and `matplotlib.pyplot`, plot the function `sin(log(x))`.\n",
        "Make sure you use a fine grid.\n",
        "\n",
        "**Hint:** Look at lectures for hints."
      ]
    },
    {
      "cell_type": "code",
      "execution_count": null,
      "id": "ea993843",
      "metadata": {
        "colab": {
          "base_uri": "https://localhost:8080/",
          "height": 534
        },
        "id": "ea993843",
        "outputId": "0c22726b-57fb-47c7-f2bf-ae00d474190b"
      },
      "outputs": [
        {
          "output_type": "stream",
          "name": "stderr",
          "text": [
            "<ipython-input-14-257326974747>:6: RuntimeWarning: invalid value encountered in log\n",
            "  y_fine = np.sin(log(x_fine))\n"
          ]
        },
        {
          "output_type": "execute_result",
          "data": {
            "text/plain": [
              "Text(0.5, 1.0, 'Fine Sine Function')"
            ]
          },
          "metadata": {},
          "execution_count": 14
        },
        {
          "output_type": "display_data",
          "data": {
            "text/plain": [
              "<Figure size 640x480 with 1 Axes>"
            ],
            "image/png": "[encoded data removed]"
          },
          "metadata": {}
        }
      ],
      "source": [
        "# Exercise 11 Code\n",
        "import matplotlib.pyplot as plt\n",
        "from numpy import sin, log\n",
        "\n",
        "x_fine = np.linspace(-2 * np.pi, 2 * np.pi, num = 100)\n",
        "y_fine = np.sin(log(x_fine))\n",
        "y_noLog = np.sin(x_fine)\n",
        "\n",
        "fig, ax = plt.subplots()\n",
        "ax.plot(x_fine, y_fine, label = \"fine line\",color='magenta')\n",
        "ax.plot(x_fine, y_noLog, label = \"fine line\",color='yellow')\n",
        "fig.legend()\n",
        "ax.set_title(\"Fine Sine Function\")"
      ]
    },
    {
      "cell_type": "markdown",
      "id": "e9452e99",
      "metadata": {
        "id": "e9452e99"
      },
      "source": [
        "## Exercise 12 -- Multidimensional Arrays\n",
        "Run the following command `print(zeros((3,4,5)))` in the cell below and answer the following questions in the Markdown cell below.\n",
        "1. What do you think the dimensionality of this array is?  \n",
        "2. Why would writing this array on paper be difficult?\n",
        "\n"
      ]
    },
    {
      "cell_type": "code",
      "execution_count": null,
      "id": "541190ea",
      "metadata": {
        "scrolled": true,
        "colab": {
          "base_uri": "https://localhost:8080/"
        },
        "id": "541190ea",
        "outputId": "6c0f4bb1-f3b3-49a1-9976-5f53bc7360a6"
      },
      "outputs": [
        {
          "output_type": "stream",
          "name": "stdout",
          "text": [
            "[[[0. 0. 0. 0. 0.]\n",
            "  [0. 0. 0. 0. 0.]\n",
            "  [0. 0. 0. 0. 0.]\n",
            "  [0. 0. 0. 0. 0.]]\n",
            "\n",
            " [[0. 0. 0. 0. 0.]\n",
            "  [0. 0. 0. 0. 0.]\n",
            "  [0. 0. 0. 0. 0.]\n",
            "  [0. 0. 0. 0. 0.]]\n",
            "\n",
            " [[0. 0. 0. 0. 0.]\n",
            "  [0. 0. 0. 0. 0.]\n",
            "  [0. 0. 0. 0. 0.]\n",
            "  [0. 0. 0. 0. 0.]]]\n"
          ]
        }
      ],
      "source": [
        "# Exercise 12 Code\n",
        "import math as mth\n",
        "from numpy import zeros\n",
        "print(zeros((3,4,5)))"
      ]
    },
    {
      "cell_type": "code",
      "source": [
        "zeros((3,4,5)).shape"
      ],
      "metadata": {
        "colab": {
          "base_uri": "https://localhost:8080/"
        },
        "id": "yVQzCwY5UEl4",
        "outputId": "ca2b6d5c-7df0-4ab0-b328-bdca290d2ee9"
      },
      "id": "yVQzCwY5UEl4",
      "execution_count": null,
      "outputs": [
        {
          "output_type": "execute_result",
          "data": {
            "text/plain": [
              "(3, 4, 5)"
            ]
          },
          "metadata": {},
          "execution_count": 17
        }
      ]
    },
    {
      "cell_type": "markdown",
      "id": "bb249cad",
      "metadata": {
        "id": "bb249cad"
      },
      "source": [
        "### Response to Exercise 12\n",
        "\n",
        "1.   The dimensionality of this array is a 3D, each dimension 4x5.\n",
        "2.   Writing this array on paper is difficult because of its repetitivity and number of rows and columns. As with big data dimensions, there are many categorical variables on top of numerical ones and dimensions explode. Hence the difficulty to 'map out' 3D dimensions on paper.\n",
        "\n"
      ]
    }
  ],
  "metadata": {
    "kernelspec": {
      "display_name": "Python 3 (ipykernel)",
      "language": "python",
      "name": "python3"
    },
    "language_info": {
      "codemirror_mode": {
        "name": "ipython",
        "version": 3
      },
      "file_extension": ".py",
      "mimetype": "text/x-python",
      "name": "python",
      "nbconvert_exporter": "python",
      "pygments_lexer": "ipython3",
      "version": "3.9.15"
    },
    "colab": {
      "provenance": []
    }
  },
  "nbformat": 4,
  "nbformat_minor": 5
}