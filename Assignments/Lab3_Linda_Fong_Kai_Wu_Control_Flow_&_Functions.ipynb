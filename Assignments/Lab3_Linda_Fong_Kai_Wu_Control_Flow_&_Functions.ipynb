{
  "cells": [
    {
      "cell_type": "markdown",
      "id": "b557d379",
      "metadata": {
        "id": "b557d379"
      },
      "source": [
        "# Lab Assignment 3 -- Control Flow & Functions\n",
        "In this lab, you will complete a series of exercises related to the lecture material on control flow and functions."
      ]
    },
    {
      "cell_type": "markdown",
      "id": "f2d3f549",
      "metadata": {
        "id": "f2d3f549"
      },
      "source": [
        "## Exercise 1a -- Divisible by n\n",
        "Define a function called `divisible_by_n()` that takes two inputs:\n",
        "- a range\n",
        "- a single integer (the n)\n",
        "\n",
        "By default, the single integer argument should be equal to 2 if only one argument is provided.\n",
        "\n",
        "You function should return a list of all numbers in the input range that are divisible by `n`.\n",
        "\n",
        "Include a function description for your function using docstrings.\n",
        "\n",
        "**Hints**\n",
        "- You can use `%` (for modular arithmetic) or you can use `math.round()` to check if a number is divisible by 3.\n",
        "- Think about whether you should to use a `for` loop or a `while` loop."
      ]
    },
    {
      "cell_type": "code",
      "id": "a6113693",
      "metadata": {
        "id": "a6113693"
      },
      "source": [
        "# Exercise 1a\n",
        "def divisible_by_n(num_range, n):\n",
        "    divis_list = []\n",
        "    for num in num_range:\n",
        "        if num % n == 0:\n",
        "            divis_list.append(num)\n",
        "    return divis_list #do stuff inside function"
      ],
      "outputs": [],
      "execution_count": null
    },
    {
      "cell_type": "code",
      "source": [
        "divisible_by_n?"
      ],
      "metadata": {
        "id": "bahEIVORgivS"
      },
      "id": "bahEIVORgivS",
      "execution_count": null,
      "outputs": []
    },
    {
      "cell_type": "code",
      "id": "c8c3a0a6",
      "metadata": {
        "colab": {
          "base_uri": "https://localhost:8080/"
        },
        "id": "c8c3a0a6",
        "outputId": "46ef79f7-349e-4339-dcb9-1b48423183ce"
      },
      "source": [
        "#print(divisible_by_n(range(2),4))\n",
        "print(divisible_by_n(range(100),3))"
      ],
      "outputs": [
        {
          "output_type": "stream",
          "name": "stdout",
          "text": [
            "[0, 3, 6, 9, 12, 15, 18, 21, 24, 27, 30, 33, 36, 39, 42, 45, 48, 51, 54, 57, 60, 63, 66, 69, 72, 75, 78, 81, 84, 87, 90, 93, 96, 99]\n"
          ]
        }
      ],
      "execution_count": null
    },
    {
      "cell_type": "markdown",
      "id": "d8d77670",
      "metadata": {
        "id": "d8d77670"
      },
      "source": [
        "## Exercise 1b -- Big Lists\n",
        "`%timeit` in the code below is what is known as an IPython magic function. IPython stands for Interactive Python and simply **refers to a version of the Python (and other coding languages)** environment that has more functionality than the standard one. In particular, this functionality makes Python easier to interact with if we want to explore data, test functions, etc. Jupyter is built on IPython.\n",
        "\n",
        "`%timeit` runs the code that follows it many times to get a sense of how long the code takes to run. Below, we use it to time how long `divide_by_n` takes on two ranges of different lengths.\n",
        "\n",
        "Run the cell and answer the following questions in a Markdown cell:\n",
        "1. Which range takes longer to get through? By how many times longer does it take? Does this make sense to you? What does it say about how the time of computation is affected by the length of the range?\n",
        "2. Would your function work with a list instead of a range? Why or why not?\n",
        "\n",
        "**Hint:** $\\mu s$ means microseconds"
      ]
    },
    {
      "cell_type": "code",
      "id": "3de20bc7",
      "metadata": {
        "colab": {
          "base_uri": "https://localhost:8080/"
        },
        "id": "3de20bc7",
        "outputId": "b956e591-7d39-4d28-bf30-47ee12d87183"
      },
      "source": [
        "# Exercise 1b -- don't edit this cell\n",
        "%timeit divisible_by_n(range(1_001), 3)\n",
        "%timeit divisible_by_n(range(10_001), 3)"
      ],
      "outputs": [
        {
          "output_type": "stream",
          "name": "stdout",
          "text": [
            "87 µs ± 629 ns per loop (mean ± std. dev. of 7 runs, 10000 loops each)\n",
            "1.18 ms ± 478 µs per loop (mean ± std. dev. of 7 runs, 1000 loops each)\n"
          ]
        }
      ],
      "execution_count": null
    },
    {
      "cell_type": "markdown",
      "id": "d6fd32c2",
      "metadata": {
        "id": "d6fd32c2"
      },
      "source": [
        "### Response to 1b\n",
        "\n",
        "\n",
        "1.   range(10_001) takes longer to get through with 1180µs per loop. By around 13.56 times slower than range(1_001), it makes sense because 10 > 1. The time of computation increases 9 times per 10 times an increase in the range.\n",
        "2.   The function should work with a predifined list with ONLY int and float values but NOT str, as seen below tested. That is because divisions are appliuble to numerical inputs.\n",
        "\n"
      ]
    },
    {
      "cell_type": "code",
      "source": [
        "test = [1,2.3,3,4,5,6,7,8,9]\n",
        "%timeit divisible_by_n(test, 3)"
      ],
      "metadata": {
        "colab": {
          "base_uri": "https://localhost:8080/"
        },
        "id": "i9hY5AsPiuc_",
        "outputId": "d769b325-6b2e-4827-bec4-5134b79931bd"
      },
      "id": "i9hY5AsPiuc_",
      "execution_count": null,
      "outputs": [
        {
          "output_type": "stream",
          "name": "stdout",
          "text": [
            "910 ns ± 15.3 ns per loop (mean ± std. dev. of 7 runs, 1000000 loops each)\n"
          ]
        }
      ]
    },
    {
      "cell_type": "markdown",
      "id": "34af43ec",
      "metadata": {
        "id": "34af43ec"
      },
      "source": [
        "## Exercise 2 -- Function Objects vs. Function Calls\n",
        "`sum()` is a function that can take some iterables and return the sum of elements in that iterable. In the Markdown cell below, answer the following questions.\n",
        "1. What types is `sum`?\n",
        "2. What type is `sum([1,2,3])`? How about `sum([1,2.0,3])`?\n",
        "3. Are the types of these three objects the same or different? Why?\n",
        "4. What is the type of `print(\"hello\")`? Why?\n"
      ]
    },
    {
      "cell_type": "code",
      "id": "ce7e11cd",
      "metadata": {
        "colab": {
          "base_uri": "https://localhost:8080/"
        },
        "id": "ce7e11cd",
        "outputId": "2e3e7e91-d868-4b48-c872-684629c06b50"
      },
      "source": [
        "# If needed, you can call the type function on these objects to help answer the question\n",
        "type(sum([1,2.0,3]))"
      ],
      "outputs": [
        {
          "output_type": "execute_result",
          "data": {
            "text/plain": [
              "float"
            ]
          },
          "metadata": {},
          "execution_count": 62
        }
      ],
      "execution_count": null
    },
    {
      "cell_type": "markdown",
      "id": "708ca789",
      "metadata": {
        "id": "708ca789"
      },
      "source": [
        "### Reponse to Exercise 2\n",
        "\n",
        "1.   sum() is a type of function for numerical inputs.\n",
        "2.   sum([1,2,3]) is an **INT**-type function with list [1,2,3] taken in as the input for summation. sum([1,2.0,3]) is likewise the same but its type (i.e. output) is a **float** instead of int.\n",
        "\n"
      ]
    },
    {
      "cell_type": "markdown",
      "id": "18d0aa8e",
      "metadata": {
        "id": "18d0aa8e"
      },
      "source": [
        "# Exercise 3\n",
        "Exercise 3 is a series of six questions\n",
        "## Exercise 3a -- Factorial Function\n",
        "The factorial of an integer n (denoted n! in mathematics) is equal to itself multipled by all of the integers smaller than n. That is\n",
        "$$\n",
        "n! = n * (n-1) * (n-2) *...* 2 * 1\n",
        "$$\n",
        "where $0!$ is defined to be 1.\n",
        "\n",
        "The module `math` already has a factorial function, but you are going to build your own. In the cell below, define a function called `custom_factorial` that takes an integer as an input and returns the factorial of that integer. You must use a loop to calculate the factorial."
      ]
    },
    {
      "cell_type": "code",
      "id": "a6ae690f",
      "metadata": {
        "id": "a6ae690f"
      },
      "source": [
        "# Exercise 3a Code\n",
        "def custom_factorial(n):\n",
        "    out = 1\n",
        "    for num in range(1,n+1):\n",
        "        out = out * num\n",
        "    return out"
      ],
      "outputs": [],
      "execution_count": null
    },
    {
      "cell_type": "code",
      "id": "bf8b5f15",
      "metadata": {
        "colab": {
          "base_uri": "https://localhost:8080/"
        },
        "id": "bf8b5f15",
        "outputId": "8b120251-5e41-4a07-e207-c236bacb3a4b"
      },
      "source": [
        "custom_factorial(29)"
      ],
      "outputs": [
        {
          "output_type": "execute_result",
          "data": {
            "text/plain": [
              "8841761993739701954543616000000"
            ]
          },
          "metadata": {},
          "execution_count": 64
        }
      ],
      "execution_count": null
    },
    {
      "cell_type": "markdown",
      "id": "6a76366f",
      "metadata": {
        "id": "6a76366f"
      },
      "source": [
        "## Exercise 3b -- Checking Your Work\n",
        "Using the `math` module's `factorial` function and a comparison operator, check that your function works for 10!.\n"
      ]
    },
    {
      "cell_type": "code",
      "id": "f52c5077",
      "metadata": {
        "colab": {
          "base_uri": "https://localhost:8080/"
        },
        "id": "f52c5077",
        "outputId": "888c71f3-9197-47fd-8e07-cdd4cfe8b7a6"
      },
      "source": [
        "# Exercise 3b Code\n",
        "import math\n",
        "math.factorial(10) == custom_factorial(10)\n",
        "print(math.factorial(10))\n",
        "print(custom_factorial(10))"
      ],
      "outputs": [
        {
          "output_type": "stream",
          "name": "stdout",
          "text": [
            "3628800\n",
            "3628800\n"
          ]
        }
      ],
      "execution_count": null
    },
    {
      "cell_type": "markdown",
      "id": "d6933761",
      "metadata": {
        "id": "d6933761"
      },
      "source": [
        "## Exercise 3c -- Nondecreasing Functions\n",
        "A function $f$ is nondecreasing when $f(x) \\geq f(y)$  if and only if $x \\geq y$. Using `matplotlib.pyplot`, and your function plot the factorial function for $n = 0, 1, 2, 3, ..., 20$. You can plot a scatter plot or a line plot.\n",
        "\n",
        "In the Markdown cell below, give another example of a nondecreasing function.\n",
        "\n",
        "**Hint:** Use a a list comprehension."
      ]
    },
    {
      "cell_type": "code",
      "id": "297f61d9",
      "metadata": {
        "colab": {
          "base_uri": "https://localhost:8080/",
          "height": 463
        },
        "id": "297f61d9",
        "outputId": "47b01ea0-2ac2-4f88-edf6-86de9683a937"
      },
      "source": [
        "# Exercise 3c Code\n",
        "import matplotlib.pyplot as plt\n",
        "x_coordinates = range(0,21)\n",
        "fact_values = [custom_factorial(x) for x in x_coordinates]\n",
        "plt.plot(x_coordinates, fact_values)"
      ],
      "outputs": [
        {
          "output_type": "execute_result",
          "data": {
            "text/plain": [
              "[<matplotlib.lines.Line2D at 0x7b6ff2967ca0>]"
            ]
          },
          "metadata": {},
          "execution_count": 66
        },
        {
          "output_type": "display_data",
          "data": {
            "text/plain": [
              "<Figure size 640x480 with 1 Axes>"
            ],
            "image/png": "[encoded data removed]"
          },
          "metadata": {}
        }
      ],
      "execution_count": null
    },
    {
      "cell_type": "code",
      "source": [
        "plt.scatter(x_coordinates, fact_values)\n",
        "plt.show()"
      ],
      "metadata": {
        "colab": {
          "base_uri": "https://localhost:8080/",
          "height": 445
        },
        "id": "yO28k-RgknhC",
        "outputId": "fe681022-f413-4bbc-a434-f2e399e4e967"
      },
      "id": "yO28k-RgknhC",
      "execution_count": null,
      "outputs": [
        {
          "output_type": "display_data",
          "data": {
            "text/plain": [
              "<Figure size 640x480 with 1 Axes>"
            ],
            "image/png": "[encoded data removed]"
          },
          "metadata": {}
        }
      ]
    },
    {
      "cell_type": "markdown",
      "id": "a97e10da",
      "metadata": {
        "id": "a97e10da"
      },
      "source": [
        "### Response to Exercise 3c\n",
        "Nondecreasing functions are any with their first derivative ≥ 0 (nonnegative). f(x) = 3x**2 is an example, as proven below that its first derivative is ≥ 0."
      ]
    },
    {
      "cell_type": "code",
      "source": [
        "from sympy import *\n",
        "import numpy as np\n",
        "x = Symbol('x')\n",
        "\n",
        "y = 3*x**2\n",
        "yprime = y.diff(x)\n",
        "yprime"
      ],
      "metadata": {
        "colab": {
          "base_uri": "https://localhost:8080/",
          "height": 39
        },
        "id": "9hJ2AZRsmE0F",
        "outputId": "b42f96db-65f4-47eb-a2fc-7fb5b07addd1"
      },
      "id": "9hJ2AZRsmE0F",
      "execution_count": null,
      "outputs": [
        {
          "output_type": "execute_result",
          "data": {
            "text/plain": [
              "6*x"
            ],
            "text/latex": "$\\displaystyle 6 x$"
          },
          "metadata": {},
          "execution_count": 68
        }
      ]
    },
    {
      "cell_type": "markdown",
      "id": "9f9b870c",
      "metadata": {
        "id": "9f9b870c"
      },
      "source": [
        "## Exercise 3d -- Finding the Smallest Integer\n",
        "For a generic nondecreasing function $f$, we might be interested in finding the smallest integer $n$ such that $f(n)$ is greater than or equal to some constant $c$. In the lecture we did this with $f(n) = n^2$, which is nondecreasing for $n \\geq 0$, and $c = 12345$.\n",
        "\n",
        "Now, define a function calld `find_smallest_int` that takes a starting value `start`, a function `f`, and a constant `c` as inputs. Recognizing that these correspond to the values above, have your function return two values: the smallest integer $n$ such that $f(n) \\geq c$ and the value of $f(n)$ for that integer.\n",
        "\n",
        "**Hint:** If you're stuck, try looking at the lecture."
      ]
    },
    {
      "cell_type": "code",
      "id": "025521ae",
      "metadata": {
        "id": "025521ae"
      },
      "source": [
        "# Exercise 3d Code\n",
        "def find_smallest_int(start, f, c):\n",
        "    while f(start) < c:\n",
        "        start += 1\n",
        "\n",
        "    return start, f(start)"
      ],
      "outputs": [],
      "execution_count": null
    },
    {
      "cell_type": "code",
      "id": "6622a652",
      "metadata": {
        "colab": {
          "base_uri": "https://localhost:8080/"
        },
        "id": "6622a652",
        "outputId": "0f779a82-f364-4d9e-cff6-3a2d06282850"
      },
      "source": [
        "find_smallest_int(29, lambda x: x** 2, 30)"
      ],
      "outputs": [
        {
          "output_type": "execute_result",
          "data": {
            "text/plain": [
              "(29, 841)"
            ]
          },
          "metadata": {},
          "execution_count": 70
        }
      ],
      "execution_count": null
    },
    {
      "cell_type": "markdown",
      "id": "c95a31db",
      "metadata": {
        "id": "c95a31db"
      },
      "source": [
        "## Exercise 3e -- Plugging in Your Function\n",
        "Now, use `find_smallest_int` and `custom_factorial` to find the smallest $n$ such that $n! \\geq 12,345$. Use a starting value of 0. Check your answer as we did in the lecture.\n"
      ]
    },
    {
      "cell_type": "code",
      "id": "fbb8967e",
      "metadata": {
        "colab": {
          "base_uri": "https://localhost:8080/"
        },
        "id": "fbb8967e",
        "outputId": "096c8876-79ce-496b-d3fb-687e71dec920"
      },
      "source": [
        "# Exercise 3e Code\n",
        "find_smallest_int(0, custom_factorial, 12345)"
      ],
      "outputs": [
        {
          "output_type": "execute_result",
          "data": {
            "text/plain": [
              "(8, 40320)"
            ]
          },
          "metadata": {},
          "execution_count": 71
        }
      ],
      "execution_count": null
    },
    {
      "cell_type": "code",
      "source": [
        "custom_factorial(8)==math.factorial(8) >= 12345"
      ],
      "metadata": {
        "colab": {
          "base_uri": "https://localhost:8080/"
        },
        "id": "UZTYycVqn0nn",
        "outputId": "c9d3698e-5550-4f10-9aef-2e003b8644c5"
      },
      "id": "UZTYycVqn0nn",
      "execution_count": null,
      "outputs": [
        {
          "output_type": "execute_result",
          "data": {
            "text/plain": [
              "True"
            ]
          },
          "metadata": {},
          "execution_count": 72
        }
      ]
    },
    {
      "cell_type": "markdown",
      "id": "c91fbc7a",
      "metadata": {
        "id": "c91fbc7a"
      },
      "source": [
        "## Exercise 3f -- Increasing n\n",
        "Now we wil time the speed and output of `find_smallest_int` with smaller and larger values of $c$ and two different functions: `custom_factorial` and and a lambda function that sqaures a single input.\n",
        "\n",
        "Answer the folowing questions in the Markdown cell below:\n",
        "1. Which function takes longer to run for a fixed value of $c$. Why do you think this is?\n",
        "2. What is the ratio between runtimes when fixing the function and varying $c$ from 1,000 to 10,000. How about 10,000 to 100,000? Compare this ratio to the ratio of smallest integers for those runs. Are they similar? Why or why not?  You will want to write some code to compare these values.\n"
      ]
    },
    {
      "cell_type": "code",
      "id": "a6081adb",
      "metadata": {
        "colab": {
          "base_uri": "https://localhost:8080/"
        },
        "id": "a6081adb",
        "outputId": "bdb88dab-7189-4374-c7f6-201b3a886e23"
      },
      "source": [
        "# Exercise 1b -- don't edit this cell\n",
        "%timeit find_smallest_int(0, custom_factorial, 1_000)\n",
        "%timeit find_smallest_int(0, custom_factorial, 10_000)\n",
        "%timeit find_smallest_int(0, custom_factorial, 100_000)\n",
        "\n",
        "\n",
        "%timeit find_smallest_int(0, lambda x: x ** 2, 1_000)\n",
        "%timeit find_smallest_int(0, lambda x: x ** 2, 10_000)\n",
        "%timeit find_smallest_int(0, lambda x: x ** 2, 100_000)"
      ],
      "outputs": [
        {
          "output_type": "stream",
          "name": "stdout",
          "text": [
            "6.28 µs ± 1.61 µs per loop (mean ± std. dev. of 7 runs, 100000 loops each)\n",
            "5.02 µs ± 148 ns per loop (mean ± std. dev. of 7 runs, 100000 loops each)\n",
            "5.73 µs ± 85.2 ns per loop (mean ± std. dev. of 7 runs, 100000 loops each)\n",
            "13 µs ± 1.27 µs per loop (mean ± std. dev. of 7 runs, 100000 loops each)\n",
            "48.2 µs ± 11.3 µs per loop (mean ± std. dev. of 7 runs, 10000 loops each)\n",
            "119 µs ± 760 ns per loop (mean ± std. dev. of 7 runs, 10000 loops each)\n"
          ]
        }
      ],
      "execution_count": null
    },
    {
      "cell_type": "code",
      "id": "5e96be8e",
      "metadata": {
        "scrolled": false,
        "colab": {
          "base_uri": "https://localhost:8080/"
        },
        "id": "5e96be8e",
        "outputId": "f77e2e7d-0099-41b3-afaa-f502c75d09b1"
      },
      "source": [
        "# Compare ratios here\n",
        "from fractions import Fraction as F\n",
        "print(F.from_float(16.5/21.8))\n",
        "print(F.from_float(29.5/86.6))\n",
        "\n",
        "print(F.from_float(21.8/15.8))\n",
        "print(F.from_float(86.6/561))"
      ],
      "outputs": [
        {
          "output_type": "stream",
          "name": "stdout",
          "text": [
            "3408687791358403/4503599627370496\n",
            "3068272263451031/9007199254740992\n",
            "6213827333966887/4503599627370496\n",
            "2780832283281889/18014398509481984\n"
          ]
        }
      ],
      "execution_count": null
    },
    {
      "cell_type": "code",
      "source": [
        "print(find_smallest_int(0, custom_factorial, 1_000))\n",
        "print(find_smallest_int(0, custom_factorial, 10_000))\n",
        "print(find_smallest_int(0, custom_factorial, 100_000))\n",
        "\n",
        "print(find_smallest_int(0, lambda x: x ** 2, 1_000))\n",
        "print(find_smallest_int(0, lambda x: x ** 2, 10_000))\n",
        "print(find_smallest_int(0, lambda x: x ** 2, 100_000))"
      ],
      "metadata": {
        "colab": {
          "base_uri": "https://localhost:8080/"
        },
        "id": "dT0gELQetYOh",
        "outputId": "9eed2394-f3f4-4d29-d08c-6accc829e7fd"
      },
      "id": "dT0gELQetYOh",
      "execution_count": null,
      "outputs": [
        {
          "output_type": "stream",
          "name": "stdout",
          "text": [
            "(7, 5040)\n",
            "(8, 40320)\n",
            "(9, 362880)\n",
            "(32, 1024)\n",
            "(100, 10000)\n",
            "(317, 100489)\n"
          ]
        }
      ]
    },
    {
      "cell_type": "code",
      "source": [
        "print(F.from_float(7/8))\n",
        "print(F.from_float(32/100))\n",
        "\n",
        "print(F.from_float(8/9))\n",
        "print(F.from_float(100/317))"
      ],
      "metadata": {
        "colab": {
          "base_uri": "https://localhost:8080/"
        },
        "id": "TQOicbmRttFA",
        "outputId": "5749779a-c643-4fb0-ce76-326be279b687"
      },
      "id": "TQOicbmRttFA",
      "execution_count": null,
      "outputs": [
        {
          "output_type": "stream",
          "name": "stdout",
          "text": [
            "7/8\n",
            "5764607523034235/18014398509481984\n",
            "2001599834386887/2251799813685248\n",
            "5682775555041635/18014398509481984\n"
          ]
        }
      ]
    },
    {
      "cell_type": "markdown",
      "id": "0429212c",
      "metadata": {
        "id": "0429212c"
      },
      "source": [
        "### Response to Exercise 3f\n",
        "\n",
        "\n",
        "1.   For a fixed value of c 1_000, 10_000, and 100_000, lambda takes longer because it is computing x**2 for each x up to c separately, WHEREBY custom_factorial multiplies to each preceding and subsequent number in one expression/one go (i.e., x*x1*x2*,...).\n",
        "2.   The ratio between runtimes when fixing the function and varying  𝑐  from 1,000 to 10,000 is 3408687791358403/4503599627370496 for custom_factorial\n",
        "and 3068272263451031/9007199254740992 for lambda.\n",
        "For 10,000 to 100,000, it is 6213827333966887/4503599627370496 for custom_factorial\n",
        "and 2780832283281889/18014398509481984 for lamdbda.\n",
        "The ratio of smallest integers for those runs are 7/8 and 5764607523034235/18014398509481984 for custom_factorial\n",
        "and 2001599834386887/2251799813685248, 5682775555041635/18014398509481984 for lambda.\n",
        "**Both** functions' 10_000/100_000 smallest int ratio contain 18014398509481984 at the bottom, alongside lambda's runtime for 100_000. This may be because it is over the same c value 10,000/100,000.\n",
        "Also, both functions' 1,000/10,000 runtime ratios contain 4503599627370496 in the **denominator**, which may be because each timeit has the same 1,000/10,000 piece of information per run.\n",
        "\n"
      ]
    },
    {
      "cell_type": "markdown",
      "id": "2987b626",
      "metadata": {
        "id": "2987b626"
      },
      "source": [
        "## Exercise 4 -- Fibonacci Sequence\n",
        "The Fibonacci Sequence is an infinite sequence of integers $X_0, X_1, X_2, X_3, ...$ defined as below\n",
        "\n",
        "$$\n",
        "X_0 = 0\n",
        "$$\n",
        "$$\n",
        "X_1 = 1\n",
        "$$\n",
        "$$\n",
        "\\hspace{3.66cm}X_t = X_{t-1} + X_{t-2} \\text{ for } t \\geq 2\n",
        "$$\n",
        "\n",
        "Below define a function called `fibo_seq` that takes $t$ as an input and returns $X_t$, the $t$-th element of the Fibonacci Sequence.\n"
      ]
    },
    {
      "cell_type": "code",
      "id": "af4f720b",
      "metadata": {
        "id": "af4f720b"
      },
      "source": [
        "## Exercise 4 Code\n",
        "def fibo_seq(t):\n",
        "    x = 0\n",
        "    if t == 0:\n",
        "        return 0\n",
        "    if t == 1:\n",
        "        return 1\n",
        "    xtm2 = 0\n",
        "    xtm1 = 1\n",
        "    for t in range(2, t+1):\n",
        "        x = xtm1 + xtm2\n",
        "        xtm2 = xtm1\n",
        "        xtm1 = x\n",
        "\n",
        "    return x\n",
        "\n"
      ],
      "outputs": [],
      "execution_count": null
    },
    {
      "cell_type": "code",
      "id": "76c3597e",
      "metadata": {
        "id": "76c3597e"
      },
      "source": [
        "fibo_seq(29)\n",
        "fibo_seq?"
      ],
      "outputs": [],
      "execution_count": null
    },
    {
      "cell_type": "markdown",
      "id": "10cd6fbc",
      "metadata": {
        "id": "10cd6fbc"
      },
      "source": [
        "## Exercise 5 -- Palindrome Detector\n",
        "A palindrome is a word or phrase that is spelled the same backwards as it is forwards (ignoring spaces). Create a function called `is_palindrome` that takes a list of strings and returns a list of Boolean variables that indicate whether the respective string is a palindrome or not. **Ignore capitalization and spaces**.\n",
        "\n",
        "When you're ready, test your function out on the cell below where `palindromes` and `nonpalindromes` are defined. Your function should return `[True, True, True, True, True]` for the former and `[False, False, False]` for the latter.\n",
        "\n",
        "\n",
        "**Hints**\n",
        "- A method will help you get rid of the white space\n",
        "- Look up on Google how to reverse a string as the reverse method only exists for lists"
      ]
    },
    {
      "cell_type": "code",
      "id": "fa2d5b1a",
      "metadata": {
        "id": "fa2d5b1a"
      },
      "source": [
        "# Exercise 5 -- create is_palindrome function here\n",
        "def is_palindrome(str_list):\n",
        "  is_palindrome = []\n",
        "  for str in str_list:\n",
        "    normalized = str.replace(' ','').lower()\n",
        "    is_palindrome.append(normalized == normalized[::-1])\n",
        "  return is_palindrome"
      ],
      "outputs": [],
      "execution_count": null
    },
    {
      "cell_type": "code",
      "source": [
        "# Run this cell when you're ready -- do not edit it\n",
        "palindromes = [\"Radar\", \"Taco cat\", \"Stresse dDesserts\", \"no Lemon no melon\", \"!??!!??!\"]\n",
        "nonpalindromes = [\"Hello World\", \"VSP\", \"Vancouver Canada\"]\n",
        "\n",
        "print(is_palindrome(palindromes))\n",
        "print(is_palindrome(nonpalindromes))"
      ],
      "metadata": {
        "colab": {
          "base_uri": "https://localhost:8080/"
        },
        "id": "5vor10Xqxiyu",
        "outputId": "d0f6a818-1d01-450b-8202-901daae71c99"
      },
      "id": "5vor10Xqxiyu",
      "execution_count": null,
      "outputs": [
        {
          "output_type": "stream",
          "name": "stdout",
          "text": [
            "[True, True, True, True, True]\n",
            "[False, False, False]\n"
          ]
        }
      ]
    },
    {
      "cell_type": "markdown",
      "id": "86aa87b3",
      "metadata": {
        "id": "86aa87b3"
      },
      "source": [
        "## Exercise 6 -- Comparison Operators & List Comprehensions\n",
        "Using `num_list` and list comprehensions, create three lists that correspond to the elements in num_list:\n",
        "1. `equal_list` whose elements should be true if the corresponding element in `num_list` is equal to 0 and false otherwise.\n",
        "2. `greater_list` whose elements should be true if the corresponding element in `num_list` is strictly greater than 0 and false otherwise.\n",
        "3. `lesser_list` whose elements should be true if the corresponding element in `num_list` is strictly less than 0 and false otherwise.\n",
        "4. Finally, using the three lists you generated, list comprehensions, and `zip()`, create `true_list` a list of length 7 where every element is true.\n",
        "\n",
        "**Hints for 4:**\n",
        "- `zip` can be used on more than two lists\n",
        "- use `or` within the list comprehension"
      ]
    },
    {
      "cell_type": "code",
      "id": "7a770f90",
      "metadata": {
        "colab": {
          "base_uri": "https://localhost:8080/"
        },
        "id": "7a770f90",
        "outputId": "f4680126-0522-415d-b4fa-b523585d8d45"
      },
      "source": [
        "# Exercise 6 Code\n",
        "# Don't edit the line below\n",
        "num_list = [-5, -3, -1, 0, 1, 3, 5]\n",
        "\n",
        "# your code below here\n",
        "equal_list = [num == 0 for num in num_list]\n",
        "greater_list = [num > 0 for num in num_list]\n",
        "lesser_list = [num < 0 for num in num_list]\n",
        "\n",
        "true_list = [a or b or c for a,b,c in list(zip(equal_list,greater_list,lesser_list))]\n",
        "\n",
        "print(equal_list)\n",
        "print(greater_list)\n",
        "print(lesser_list)"
      ],
      "outputs": [
        {
          "output_type": "stream",
          "name": "stdout",
          "text": [
            "[False, False, False, True, False, False, False]\n",
            "[False, False, False, False, True, True, True]\n",
            "[True, True, True, False, False, False, False]\n"
          ]
        }
      ],
      "execution_count": null
    },
    {
      "cell_type": "code",
      "source": [
        "print(true_list)"
      ],
      "metadata": {
        "colab": {
          "base_uri": "https://localhost:8080/"
        },
        "id": "BAeziu7Rru-F",
        "outputId": "6ec8a82c-3025-40c9-b7b9-b14ff73c8467"
      },
      "id": "BAeziu7Rru-F",
      "execution_count": null,
      "outputs": [
        {
          "output_type": "stream",
          "name": "stdout",
          "text": [
            "[True, True, True, True, True, True, True]\n"
          ]
        }
      ]
    },
    {
      "cell_type": "markdown",
      "id": "c8b7d7b3",
      "metadata": {
        "id": "c8b7d7b3"
      },
      "source": [
        "## Exercise 7 -- List Comprehensions and Very Basic Plotting\n",
        "Complete the following steps in the cells below:\n",
        "1. Import the `math` module and give it an alias of `mt`.\n",
        "2. Import the `matplotlib.pyplot` module and give it an alias of `plt`.\n",
        "3. Create a variable named `num_range` and set it equal to a range of numbers from 0 to 1000 (including 1000).\n",
        "4. Using `num_range` and a list comprehension, create a list called `sine_list` that is equal to `sin((pi/100) * x)` for every `x` in the range `num_range`. (**Hint:** sin and pi are objects from the math library.)\n",
        "5. Finally, using `plt`, `num_range`, and `sine_list`, generate a line plot."
      ]
    },
    {
      "cell_type": "code",
      "id": "0f6bfae5",
      "metadata": {
        "colab": {
          "base_uri": "https://localhost:8080/",
          "height": 486
        },
        "id": "0f6bfae5",
        "outputId": "93a982a3-fae1-49ce-eba0-5b1ee7ca66f2"
      },
      "source": [
        "# Exercise 7 Code\n",
        "import math as mt\n",
        "import matplotlib.pyplot as plt\n",
        "num_range = range(0,1001)\n",
        "print(list(num_range))\n",
        "\n",
        "sine_list = [mt.sin((mt.pi/100) * x) for x in num_range]\n",
        "sine_list\n",
        "\n",
        "plt.plot(num_range,sine_list)"
      ],
      "outputs": [
        {
          "output_type": "stream",
          "name": "stdout",
          "text": [
            "[0, 1, 2, 3, 4, 5, 6, 7, 8, 9, 10, 11, 12, 13, 14, 15, 16, 17, 18, 19, 20, 21, 22, 23, 24, 25, 26, 27, 28, 29, 30, 31, 32, 33, 34, 35, 36, 37, 38, 39, 40, 41, 42, 43, 44, 45, 46, 47, 48, 49, 50, 51, 52, 53, 54, 55, 56, 57, 58, 59, 60, 61, 62, 63, 64, 65, 66, 67, 68, 69, 70, 71, 72, 73, 74, 75, 76, 77, 78, 79, 80, 81, 82, 83, 84, 85, 86, 87, 88, 89, 90, 91, 92, 93, 94, 95, 96, 97, 98, 99, 100, 101, 102, 103, 104, 105, 106, 107, 108, 109, 110, 111, 112, 113, 114, 115, 116, 117, 118, 119, 120, 121, 122, 123, 124, 125, 126, 127, 128, 129, 130, 131, 132, 133, 134, 135, 136, 137, 138, 139, 140, 141, 142, 143, 144, 145, 146, 147, 148, 149, 150, 151, 152, 153, 154, 155, 156, 157, 158, 159, 160, 161, 162, 163, 164, 165, 166, 167, 168, 169, 170, 171, 172, 173, 174, 175, 176, 177, 178, 179, 180, 181, 182, 183, 184, 185, 186, 187, 188, 189, 190, 191, 192, 193, 194, 195, 196, 197, 198, 199, 200, 201, 202, 203, 204, 205, 206, 207, 208, 209, 210, 211, 212, 213, 214, 215, 216, 217, 218, 219, 220, 221, 222, 223, 224, 225, 226, 227, 228, 229, 230, 231, 232, 233, 234, 235, 236, 237, 238, 239, 240, 241, 242, 243, 244, 245, 246, 247, 248, 249, 250, 251, 252, 253, 254, 255, 256, 257, 258, 259, 260, 261, 262, 263, 264, 265, 266, 267, 268, 269, 270, 271, 272, 273, 274, 275, 276, 277, 278, 279, 280, 281, 282, 283, 284, 285, 286, 287, 288, 289, 290, 291, 292, 293, 294, 295, 296, 297, 298, 299, 300, 301, 302, 303, 304, 305, 306, 307, 308, 309, 310, 311, 312, 313, 314, 315, 316, 317, 318, 319, 320, 321, 322, 323, 324, 325, 326, 327, 328, 329, 330, 331, 332, 333, 334, 335, 336, 337, 338, 339, 340, 341, 342, 343, 344, 345, 346, 347, 348, 349, 350, 351, 352, 353, 354, 355, 356, 357, 358, 359, 360, 361, 362, 363, 364, 365, 366, 367, 368, 369, 370, 371, 372, 373, 374, 375, 376, 377, 378, 379, 380, 381, 382, 383, 384, 385, 386, 387, 388, 389, 390, 391, 392, 393, 394, 395, 396, 397, 398, 399, 400, 401, 402, 403, 404, 405, 406, 407, 408, 409, 410, 411, 412, 413, 414, 415, 416, 417, 418, 419, 420, 421, 422, 423, 424, 425, 426, 427, 428, 429, 430, 431, 432, 433, 434, 435, 436, 437, 438, 439, 440, 441, 442, 443, 444, 445, 446, 447, 448, 449, 450, 451, 452, 453, 454, 455, 456, 457, 458, 459, 460, 461, 462, 463, 464, 465, 466, 467, 468, 469, 470, 471, 472, 473, 474, 475, 476, 477, 478, 479, 480, 481, 482, 483, 484, 485, 486, 487, 488, 489, 490, 491, 492, 493, 494, 495, 496, 497, 498, 499, 500, 501, 502, 503, 504, 505, 506, 507, 508, 509, 510, 511, 512, 513, 514, 515, 516, 517, 518, 519, 520, 521, 522, 523, 524, 525, 526, 527, 528, 529, 530, 531, 532, 533, 534, 535, 536, 537, 538, 539, 540, 541, 542, 543, 544, 545, 546, 547, 548, 549, 550, 551, 552, 553, 554, 555, 556, 557, 558, 559, 560, 561, 562, 563, 564, 565, 566, 567, 568, 569, 570, 571, 572, 573, 574, 575, 576, 577, 578, 579, 580, 581, 582, 583, 584, 585, 586, 587, 588, 589, 590, 591, 592, 593, 594, 595, 596, 597, 598, 599, 600, 601, 602, 603, 604, 605, 606, 607, 608, 609, 610, 611, 612, 613, 614, 615, 616, 617, 618, 619, 620, 621, 622, 623, 624, 625, 626, 627, 628, 629, 630, 631, 632, 633, 634, 635, 636, 637, 638, 639, 640, 641, 642, 643, 644, 645, 646, 647, 648, 649, 650, 651, 652, 653, 654, 655, 656, 657, 658, 659, 660, 661, 662, 663, 664, 665, 666, 667, 668, 669, 670, 671, 672, 673, 674, 675, 676, 677, 678, 679, 680, 681, 682, 683, 684, 685, 686, 687, 688, 689, 690, 691, 692, 693, 694, 695, 696, 697, 698, 699, 700, 701, 702, 703, 704, 705, 706, 707, 708, 709, 710, 711, 712, 713, 714, 715, 716, 717, 718, 719, 720, 721, 722, 723, 724, 725, 726, 727, 728, 729, 730, 731, 732, 733, 734, 735, 736, 737, 738, 739, 740, 741, 742, 743, 744, 745, 746, 747, 748, 749, 750, 751, 752, 753, 754, 755, 756, 757, 758, 759, 760, 761, 762, 763, 764, 765, 766, 767, 768, 769, 770, 771, 772, 773, 774, 775, 776, 777, 778, 779, 780, 781, 782, 783, 784, 785, 786, 787, 788, 789, 790, 791, 792, 793, 794, 795, 796, 797, 798, 799, 800, 801, 802, 803, 804, 805, 806, 807, 808, 809, 810, 811, 812, 813, 814, 815, 816, 817, 818, 819, 820, 821, 822, 823, 824, 825, 826, 827, 828, 829, 830, 831, 832, 833, 834, 835, 836, 837, 838, 839, 840, 841, 842, 843, 844, 845, 846, 847, 848, 849, 850, 851, 852, 853, 854, 855, 856, 857, 858, 859, 860, 861, 862, 863, 864, 865, 866, 867, 868, 869, 870, 871, 872, 873, 874, 875, 876, 877, 878, 879, 880, 881, 882, 883, 884, 885, 886, 887, 888, 889, 890, 891, 892, 893, 894, 895, 896, 897, 898, 899, 900, 901, 902, 903, 904, 905, 906, 907, 908, 909, 910, 911, 912, 913, 914, 915, 916, 917, 918, 919, 920, 921, 922, 923, 924, 925, 926, 927, 928, 929, 930, 931, 932, 933, 934, 935, 936, 937, 938, 939, 940, 941, 942, 943, 944, 945, 946, 947, 948, 949, 950, 951, 952, 953, 954, 955, 956, 957, 958, 959, 960, 961, 962, 963, 964, 965, 966, 967, 968, 969, 970, 971, 972, 973, 974, 975, 976, 977, 978, 979, 980, 981, 982, 983, 984, 985, 986, 987, 988, 989, 990, 991, 992, 993, 994, 995, 996, 997, 998, 999, 1000]\n"
          ]
        },
        {
          "output_type": "execute_result",
          "data": {
            "text/plain": [
              "[<matplotlib.lines.Line2D at 0x7b6ff2a94130>]"
            ]
          },
          "metadata": {},
          "execution_count": 50
        },
        {
          "output_type": "display_data",
          "data": {
            "text/plain": [
              "<Figure size 640x480 with 1 Axes>"
            ],
            "image/png": "[encoded data removed]"
          },
          "metadata": {}
        }
      ],
      "execution_count": null
    }
  ],
  "metadata": {
    "kernelspec": {
      "display_name": "Python 3 (ipykernel)",
      "language": "python",
      "name": "python3"
    },
    "language_info": {
      "codemirror_mode": {
        "name": "ipython",
        "version": 3
      },
      "file_extension": ".py",
      "mimetype": "text/x-python",
      "name": "python",
      "nbconvert_exporter": "python",
      "pygments_lexer": "ipython3",
      "version": "3.9.15"
    },
    "colab": {
      "provenance": []
    }
  },
  "nbformat": 4,
  "nbformat_minor": 5
}